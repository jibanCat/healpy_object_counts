{
 "cells": [
  {
   "cell_type": "markdown",
   "metadata": {},
   "source": [
    "Note for MF:\n",
    "- Jupyter functions other than notebook\n",
    "- [kernels](https://github.com/jupyter/jupyter/wiki/Jupyter-kernels)\n",
    "- github tutorial (e.g., [pymc3](https://github.com/pymc-devs/pymc3/blob/master/docs/source/notebooks/GLM-rolling-regression.ipynb)), [gallery](https://github.com/jupyter/jupyter/wiki/A-gallery-of-interesting-Jupyter-Notebooks)\n",
    "- [reveal.js RISE](https://github.com/damianavila/RISE), [Blog](http://www.damian.oquanta.info/)\n",
    "- [Jupyter nbextensions](https://github.com/ipython-contrib/jupyter_contrib_nbextensions)\n",
    "- [Jupyter Lab](https://github.com/jupyterlab/jupyterlab)"
   ]
  },
  {
   "cell_type": "markdown",
   "metadata": {},
   "source": [
    "# Why Jupyter is AWESOME?\n",
    "- As a Document: Help you to share your code and your idea step by step\n",
    "- Prototyping: Help you to interact and visualize your idea before you move to a more serious text editor\n",
    "- Presentation: Use reveal.js rise to present your notebook in slides"
   ]
  },
  {
   "cell_type": "markdown",
   "metadata": {},
   "source": [
    "## Some Jupyter Tricks\n",
    "Let us follow the post: [28 jupyter tricks](https://www.dataquest.io/blog/jupyter-notebook-tips-tricks-shortcuts/)\n",
    "\n",
    "- magic functions: `%`\n",
    "- bash command: `!`\n",
    "- interact with R "
   ]
  },
  {
   "cell_type": "code",
   "execution_count": null,
   "metadata": {
    "collapsed": true,
    "scrolled": true
   },
   "outputs": [],
   "source": [
    "# how many magic function we got?\n",
    "%lsmagic"
   ]
  },
  {
   "cell_type": "markdown",
   "metadata": {},
   "source": [
    "Cython Magic fast for loop\n",
    "\n",
    "- [Fast for loop, pyimagesearch](https://www.pyimagesearch.com/2017/08/28/fast-optimized-for-pixel-loops-with-opencv-and-python/)\n",
    "- [Cython with OpenMP](http://www.perrygeo.com/parallelizing-numpy-array-loops-with-cython-and-mpi.html)"
   ]
  },
  {
   "cell_type": "markdown",
   "metadata": {},
   "source": [
    "[line profiler](https://github.com/rkern/line_profiler)"
   ]
  },
  {
   "cell_type": "markdown",
   "metadata": {},
   "source": [
    "COOL things I've never used\n",
    "- [nbtutor](https://github.com/jorisvandenbossche/nbtutor)\n",
    "- [pivottablejs](http://nicolas.kruchten.com/content/2015/09/jupyter_pivottablejs/)"
   ]
  },
  {
   "cell_type": "markdown",
   "metadata": {},
   "source": [
    "## Basic `healpy`\n",
    "\n",
    "Note for MF\n",
    "- `RING` & `NESTED`: Hierarchical Equal Area Iso Latitude pixelation of the sphere\n",
    "- hack: cartesian projection to Healpix format\n",
    "- smoothing\n",
    "- Different types of projections\n",
    "- `pixelfunc`\n",
    "- something you can play with yourself\n",
    "- hack: Not so important, but you can use `vpython` for 3D sphere."
   ]
  },
  {
   "cell_type": "code",
   "execution_count": null,
   "metadata": {
    "collapsed": true
   },
   "outputs": [],
   "source": [
    "import numpy as np\n",
    "import healpy as hp"
   ]
  },
  {
   "cell_type": "code",
   "execution_count": null,
   "metadata": {
    "collapsed": true
   },
   "outputs": [],
   "source": [
    "def cart_healpix(cartview, nside):\n",
    "    '''read in a matrix and return a healpix pixelization map'''\n",
    "    # Generate a blank Healpix map and angular to pixels\n",
    "    healpix = np.zeros(hp.nside2npix(nside), dtype=np.double)\n",
    "    hptheta = np.linspace(0, np.pi, num=cartview.shape[0])[:, None]\n",
    "    hpphi = np.linspace(-np.pi, np.pi, num=cartview.shape[1])\n",
    "    pix = hp.ang2pix(nside, hptheta, hpphi)\n",
    "    \n",
    "    # re-pixelize\n",
    "    healpix[pix] = cartview\n",
    "    return healpix"
   ]
  },
  {
   "cell_type": "code",
   "execution_count": null,
   "metadata": {
    "collapsed": true
   },
   "outputs": [],
   "source": []
  }
 ],
 "metadata": {
  "hide_input": false,
  "kernelspec": {
   "display_name": "Python 3",
   "language": "python",
   "name": "python3"
  },
  "language_info": {
   "codemirror_mode": {
    "name": "ipython",
    "version": 3
   },
   "file_extension": ".py",
   "mimetype": "text/x-python",
   "name": "python",
   "nbconvert_exporter": "python",
   "pygments_lexer": "ipython3",
   "version": "3.6.1"
  },
  "latex_envs": {
   "LaTeX_envs_menu_present": true,
   "bibliofile": "biblio.bib",
   "cite_by": "apalike",
   "current_citInitial": 1,
   "eqLabelWithNumbers": true,
   "eqNumInitial": 1,
   "labels_anchors": false,
   "latex_user_defs": false,
   "report_style_numbering": false,
   "user_envs_cfg": false
  }
 },
 "nbformat": 4,
 "nbformat_minor": 2
}
